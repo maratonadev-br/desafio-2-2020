{
 "cells": [
  {
   "cell_type": "markdown",
   "metadata": {
    "collapsed": true
   },
   "source": [
    "# MARATONA BEHIND THE CODE 2020\n",
    "\n",
    "## DESAFIO 2: PARTE 1"
   ]
  },
  {
   "cell_type": "markdown",
   "metadata": {},
   "source": [
    "### Introdução"
   ]
  },
  {
   "cell_type": "markdown",
   "metadata": {},
   "source": [
    "Em projetos de ciência de dados visando a construção de modelos de *machine learning*, ou aprendizado estatístico, é muito incomum que os dados iniciais estejam já no formato ideal para a construção de modelos. São necessários vários passos intermediários de pré-processamento de dados, como por exemplo a codificação de variáveis categóricas, normalização de variáveis numéricas, tratamento de dados faltantes, etc. A biblioteca **scikit-learn** -- uma das mais populares bibliotecas de código-aberto para *machine learning* no mundo -- possui diversas funções já integradas para a realização das transformações de dados mais utilizadas. Entretanto, em um fluxo comum de um modelo de aprendizado de máquina, é necessária a aplicação dessas transformações pelo menos duas vezes: a primeira vez para \"treinar\" o modelo, e depois novamente quando novos dados forem enviados como entrada para serem classificados por este modelo. \n",
    "\n",
    "Para facilitar o trabalho com esse tipo de fluxo, o scikit-learn possui também uma ferramenta chamada **Pipeline**, que nada mais é do que uma lista ordenada de transformações que devem ser aplicadas nos dados. Para auxiliar no desenvolvimento e no gerenciamento de todo o ciclo-de-vida dessas aplicações, alem do uso de Pipelines, as equipes de cientistas de dados podem utilizar em conjunto o **Watson Machine Learning**, que possui dezenas de ferramentas para treinar, gerenciar, hospedar e avaliar modelos baseados em aprendizado de máquina. Além disso, o Watson Machine Learning é capaz de encapsular pipelines e modelos em uma API pronta para uso e integração com outras aplicações.\n",
    "\n",
    "Durante o desafio 2, você participante irá aprender a construir uma **Pipeline** para um modelo de classificação e hospedá-lo como uma API com o auxílio do Watson Machine Learning. Uma vez hospedado, você poderá integrar o modelo criado com outras aplicações, como assistentes virtuais e muito mais. Neste notebook, será apresentado um exemplo funcional de criação de um modelo e de uma pipeline no scikit-learn (que você poderá utilizar como template para a sua solução!)."
   ]
  },
  {
   "cell_type": "markdown",
   "metadata": {},
   "source": [
    "### Trabalhando com Pipelines do scikit-learn"
   ]
  },
  {
   "cell_type": "code",
   "execution_count": 1,
   "metadata": {},
   "outputs": [
    {
     "name": "stdout",
     "output_type": "stream",
     "text": [
      "Collecting scikit-learn==0.20.0\n",
      "  Using cached scikit_learn-0.20.0-cp36-cp36m-manylinux1_x86_64.whl (5.3 MB)\n",
      "Requirement already satisfied, skipping upgrade: scipy>=0.13.3 in /usr/local/lib/python3.6/dist-packages (from scikit-learn==0.20.0) (1.5.2)\n",
      "Requirement already satisfied, skipping upgrade: numpy>=1.8.2 in /usr/local/lib/python3.6/dist-packages (from scikit-learn==0.20.0) (1.19.1)\n",
      "Installing collected packages: scikit-learn\n",
      "  Attempting uninstall: scikit-learn\n",
      "    Found existing installation: scikit-learn 0.23.2\n",
      "    Uninstalling scikit-learn-0.23.2:\n",
      "      Successfully uninstalled scikit-learn-0.23.2\n",
      "\u001b[31mERROR: After October 2020 you may experience errors when installing or updating packages. This is because pip will change the way that it resolves dependency conflicts.\n",
      "\n",
      "We recommend you use --use-feature=2020-resolver to test your packages with the new resolver before it becomes the default.\n",
      "\n",
      "imbalanced-learn 0.7.0 requires scikit-learn>=0.23, but you'll have scikit-learn 0.20.0 which is incompatible.\u001b[0m\n",
      "Successfully installed scikit-learn-0.20.0\n",
      "Requirement already up-to-date: imbalanced-learn in /usr/local/lib/python3.6/dist-packages (0.7.0)\n",
      "Requirement already satisfied, skipping upgrade: numpy>=1.13.3 in /usr/local/lib/python3.6/dist-packages (from imbalanced-learn) (1.19.1)\n",
      "Requirement already satisfied, skipping upgrade: scipy>=0.19.1 in /usr/local/lib/python3.6/dist-packages (from imbalanced-learn) (1.5.2)\n",
      "Collecting scikit-learn>=0.23\n",
      "  Using cached scikit_learn-0.23.2-cp36-cp36m-manylinux1_x86_64.whl (6.8 MB)\n",
      "Requirement already satisfied, skipping upgrade: joblib>=0.11 in /usr/local/lib/python3.6/dist-packages (from imbalanced-learn) (0.16.0)\n",
      "Requirement already satisfied, skipping upgrade: threadpoolctl>=2.0.0 in /usr/local/lib/python3.6/dist-packages (from scikit-learn>=0.23->imbalanced-learn) (2.1.0)\n",
      "Installing collected packages: scikit-learn\n",
      "  Attempting uninstall: scikit-learn\n",
      "    Found existing installation: scikit-learn 0.20.0\n",
      "    Uninstalling scikit-learn-0.20.0:\n",
      "      Successfully uninstalled scikit-learn-0.20.0\n",
      "Successfully installed scikit-learn-0.23.2\n",
      "Requirement already up-to-date: xgboost in /usr/local/lib/python3.6/dist-packages (1.1.1)\n",
      "Requirement already satisfied, skipping upgrade: numpy in /usr/local/lib/python3.6/dist-packages (from xgboost) (1.19.1)\n",
      "Requirement already satisfied, skipping upgrade: scipy in /usr/local/lib/python3.6/dist-packages (from xgboost) (1.5.2)\n"
     ]
    }
   ],
   "source": [
    "# Primeiro, realizamos a instalação do scikit-learn versão 0.20.0 no Kernel deste notebook:\n",
    "!pip install scikit-learn==0.20.0 --upgrade\n",
    "!pip install imbalanced-learn --upgrade\n",
    "!pip install xgboost --upgrade"
   ]
  },
  {
   "cell_type": "code",
   "execution_count": 2,
   "metadata": {},
   "outputs": [],
   "source": [
    "# Em seguida iremos importar diversas bibliotecas que serão utilizadas:\n",
    "\n",
    "# Pacote para trabalhar com JSON\n",
    "import json\n",
    "\n",
    "# Pacote para realizar requisições HTTP\n",
    "import requests\n",
    "\n",
    "# Pacote para exploração e análise de dados\n",
    "import pandas as pd\n",
    "\n",
    "# Pacote com métodos numéricos e representações matriciais\n",
    "import numpy as np\n",
    "\n",
    "# Pacote para construção de modelo baseado na técnica Gradient Boosting\n",
    "import xgboost as xgb\n",
    "\n",
    "# Pacotes do scikit-learn para pré-processamento de dados\n",
    "# \"SimpleImputer\" é uma transformação para preencher valores faltantes em conjuntos de dados\n",
    "from sklearn.impute import SimpleImputer\n",
    "\n",
    "# Pacotes do scikit-learn para treinamento de modelos e construção de pipelines\n",
    "# Método para separação de conjunto de dados em amostras de treino e teste\n",
    "from sklearn.model_selection import train_test_split\n",
    "# Método para criação de modelos baseados em árvores de decisão\n",
    "from sklearn.tree import DecisionTreeClassifier\n",
    "# Classe para a criação de uma pipeline de machine-learning\n",
    "from sklearn.pipeline import Pipeline\n",
    "\n",
    "# Pacotes do scikit-learn para avaliação de modelos\n",
    "# Métodos para validação cruzada do modelo criado\n",
    "from sklearn.model_selection import KFold, cross_validate"
   ]
  },
  {
   "cell_type": "markdown",
   "metadata": {},
   "source": [
    "### Importando um .csv de seu projeto no IBM Cloud Pak for Data para o Kernel deste notebook"
   ]
  },
  {
   "cell_type": "markdown",
   "metadata": {},
   "source": [
    "Primeiro iremos importar o dataset fornecido para o desafio, que já está incluso neste projeto!\n",
    "\n",
    "Você pode realizar a importação dos dados de um arquivo .csv diretamente para o Kernel do notebook como um DataFrame da biblioteca Pandas, muito utilizada para a manipulação de dados em Python.\n",
    "\n",
    "Para realizar a importação, basta selecionar a próxima célula e seguir as instruções na imagem abaixo:\n",
    "\n",
    "![alt text](https://i.imgur.com/K1DwL9I.png \"importing-csv-as-df\")\n",
    "\n",
    "Após a seleção da opção **\"Insert to code\"**, a célula abaixo será preenchida com o código necessário para importação e leitura dos dados no arquivo .csv como um DataFrame Pandas."
   ]
  },
  {
   "cell_type": "code",
   "execution_count": 3,
   "metadata": {
    "scrolled": true
   },
   "outputs": [
    {
     "data": {
      "text/html": [
       "<div>\n",
       "<style scoped>\n",
       "    .dataframe tbody tr th:only-of-type {\n",
       "        vertical-align: middle;\n",
       "    }\n",
       "\n",
       "    .dataframe tbody tr th {\n",
       "        vertical-align: top;\n",
       "    }\n",
       "\n",
       "    .dataframe thead th {\n",
       "        text-align: right;\n",
       "    }\n",
       "</style>\n",
       "<table border=\"1\" class=\"dataframe\">\n",
       "  <thead>\n",
       "    <tr style=\"text-align: right;\">\n",
       "      <th></th>\n",
       "      <th>MATRICULA</th>\n",
       "      <th>NOME</th>\n",
       "      <th>REPROVACOES_DE</th>\n",
       "      <th>REPROVACOES_EM</th>\n",
       "      <th>REPROVACOES_MF</th>\n",
       "      <th>REPROVACOES_GO</th>\n",
       "      <th>NOTA_DE</th>\n",
       "      <th>NOTA_EM</th>\n",
       "      <th>NOTA_MF</th>\n",
       "      <th>NOTA_GO</th>\n",
       "      <th>INGLES</th>\n",
       "      <th>H_AULA_PRES</th>\n",
       "      <th>TAREFAS_ONLINE</th>\n",
       "      <th>FALTAS</th>\n",
       "      <th>PERFIL</th>\n",
       "    </tr>\n",
       "  </thead>\n",
       "  <tbody>\n",
       "    <tr>\n",
       "      <th>0</th>\n",
       "      <td>502375</td>\n",
       "      <td>Márcia Illiglener</td>\n",
       "      <td>0</td>\n",
       "      <td>0</td>\n",
       "      <td>0</td>\n",
       "      <td>0</td>\n",
       "      <td>6.2</td>\n",
       "      <td>5.8</td>\n",
       "      <td>4.6</td>\n",
       "      <td>5.9</td>\n",
       "      <td>0.0</td>\n",
       "      <td>2</td>\n",
       "      <td>4</td>\n",
       "      <td>3</td>\n",
       "      <td>EXATAS</td>\n",
       "    </tr>\n",
       "    <tr>\n",
       "      <th>1</th>\n",
       "      <td>397093</td>\n",
       "      <td>Jason Jytereoman Izoimum</td>\n",
       "      <td>0</td>\n",
       "      <td>0</td>\n",
       "      <td>0</td>\n",
       "      <td>0</td>\n",
       "      <td>6.0</td>\n",
       "      <td>6.2</td>\n",
       "      <td>5.2</td>\n",
       "      <td>4.5</td>\n",
       "      <td>1.0</td>\n",
       "      <td>2</td>\n",
       "      <td>4</td>\n",
       "      <td>3</td>\n",
       "      <td>EXATAS</td>\n",
       "    </tr>\n",
       "    <tr>\n",
       "      <th>2</th>\n",
       "      <td>915288</td>\n",
       "      <td>Bartolomeu Inácio da Gama</td>\n",
       "      <td>0</td>\n",
       "      <td>0</td>\n",
       "      <td>0</td>\n",
       "      <td>0</td>\n",
       "      <td>7.3</td>\n",
       "      <td>6.7</td>\n",
       "      <td>7.1</td>\n",
       "      <td>7.2</td>\n",
       "      <td>0.0</td>\n",
       "      <td>5</td>\n",
       "      <td>0</td>\n",
       "      <td>3</td>\n",
       "      <td>HUMANAS</td>\n",
       "    </tr>\n",
       "    <tr>\n",
       "      <th>3</th>\n",
       "      <td>192652</td>\n",
       "      <td>Fernanda Guedes</td>\n",
       "      <td>1</td>\n",
       "      <td>3</td>\n",
       "      <td>1</td>\n",
       "      <td>1</td>\n",
       "      <td>0.0</td>\n",
       "      <td>0.0</td>\n",
       "      <td>0.0</td>\n",
       "      <td>0.0</td>\n",
       "      <td>1.0</td>\n",
       "      <td>4</td>\n",
       "      <td>4</td>\n",
       "      <td>4</td>\n",
       "      <td>DIFICULDADE</td>\n",
       "    </tr>\n",
       "    <tr>\n",
       "      <th>4</th>\n",
       "      <td>949491</td>\n",
       "      <td>Alessandre Borba Gomes</td>\n",
       "      <td>1</td>\n",
       "      <td>3</td>\n",
       "      <td>1</td>\n",
       "      <td>1</td>\n",
       "      <td>0.0</td>\n",
       "      <td>0.0</td>\n",
       "      <td>0.0</td>\n",
       "      <td>0.0</td>\n",
       "      <td>1.0</td>\n",
       "      <td>5</td>\n",
       "      <td>2</td>\n",
       "      <td>5</td>\n",
       "      <td>DIFICULDADE</td>\n",
       "    </tr>\n",
       "  </tbody>\n",
       "</table>\n",
       "</div>"
      ],
      "text/plain": [
       "   MATRICULA                       NOME  REPROVACOES_DE  REPROVACOES_EM  \\\n",
       "0     502375          Márcia Illiglener               0               0   \n",
       "1     397093   Jason Jytereoman Izoimum               0               0   \n",
       "2     915288  Bartolomeu Inácio da Gama               0               0   \n",
       "3     192652            Fernanda Guedes               1               3   \n",
       "4     949491     Alessandre Borba Gomes               1               3   \n",
       "\n",
       "   REPROVACOES_MF  REPROVACOES_GO  NOTA_DE  NOTA_EM  NOTA_MF  NOTA_GO  INGLES  \\\n",
       "0               0               0      6.2      5.8      4.6      5.9     0.0   \n",
       "1               0               0      6.0      6.2      5.2      4.5     1.0   \n",
       "2               0               0      7.3      6.7      7.1      7.2     0.0   \n",
       "3               1               1      0.0      0.0      0.0      0.0     1.0   \n",
       "4               1               1      0.0      0.0      0.0      0.0     1.0   \n",
       "\n",
       "   H_AULA_PRES  TAREFAS_ONLINE  FALTAS       PERFIL  \n",
       "0            2               4       3       EXATAS  \n",
       "1            2               4       3       EXATAS  \n",
       "2            5               0       3      HUMANAS  \n",
       "3            4               4       4  DIFICULDADE  \n",
       "4            5               2       5  DIFICULDADE  "
      ]
     },
     "execution_count": 3,
     "metadata": {},
     "output_type": "execute_result"
    }
   ],
   "source": [
    "df_data_1 = pd.read_csv('../Data/dataset_desafio_2.csv')\n",
    "df_data_1.head()\n",
    "\n",
    "# sizes = df_data_1['PERFIL'].value_counts(sort=1)\n",
    "# print(sizes)"
   ]
  },
  {
   "cell_type": "markdown",
   "metadata": {},
   "source": [
    "Temos 15 colunas presentes no dataset fornecido, sendo dezessete delas variáveis características (dados de entrada) e um delas uma variável-alvo (que queremos que o nosso modelo seja capaz de prever). \n",
    "\n",
    "As variáveis características são:\n",
    "\n",
    "    MATRICULA       - número de matrícula do estudante\n",
    "    NOME            - nome completo do estudante\n",
    "    REPROVACOES_DE  - número de reprovações na disciplina de ``Direito Empresarial``\n",
    "    REPROVACOES_EM  - número de reprovações na disciplina de ``Empreendedorismo``\n",
    "    REPROVACOES_MF  - número de reprovações na disciplina de ``Matemática Financeira``\n",
    "    REPROVACOES_GO  - número de reprovações na disciplina de ``Gestão Operacional``\n",
    "    NOTA_DE         - média simples das notas do aluno na disciplina de ``Direito Empresarial`` (0-10)\n",
    "    NOTA_EM         - média simples das notas do aluno na disciplina de ``Empreendedorismo`` (0-10)\n",
    "    NOTA_MF         - média simples das notas do aluno na disciplina de ``Matemática Financeira`` (0-10)\n",
    "    NOTA_GO         - média simples das notas do aluno na disciplina de ``Gestão Operacional`` (0-10)\n",
    "    INGLES          - variável binária que indica se o estudante tem conhecimento em língua inglesa (0 -> sim ou 1 -> não).\n",
    "    H_AULA_PRES     - horas de estudo presencial realizadas pelo estudante\n",
    "    TAREFAS_ONLINE  - número de tarefas online entregues pelo estudante\n",
    "    FALTAS          - número de faltas acumuladas do estudante (todas disciplinas)\n",
    "    \n",
    "A variável-alvo é:\n",
    "\n",
    "    PERFIL               - uma *string* que indica uma de cinco possibilidades: \n",
    "        \"EXCELENTE\"      - Estudante não necessita de mentoria\n",
    "        \"MUITO BOM\"      - Estudante não necessita de mentoria\n",
    "        \"HUMANAS\"        - Estudante necessita de mentoria exclusivamente em matérias com conteúdo de ciências humanas\n",
    "        \"EXATAS\"         - Estudante necessita de mentoria apenas em disciplinas com conteúdo de ciências exatas\n",
    "        \"DIFICULDADE\"    - Estudante necessita de mentoria em duas ou mais disciplinas\n",
    "        \n",
    "Com um modelo capaz de classificar um estudante em uma dessas categorias, podemos automatizar parte da mentoria estudantil através de assistentes virtuais, que serão capazes de recomendar práticas de estudo e conteúdo personalizado com base nas necessidades de cada aluno."
   ]
  },
  {
   "cell_type": "markdown",
   "metadata": {},
   "source": [
    "### Explorando os dados fornecidos\n",
    "\n",
    "Podemos continuar a exploração dos dados fornecidos com a função ``info()``:"
   ]
  },
  {
   "cell_type": "code",
   "execution_count": 4,
   "metadata": {},
   "outputs": [
    {
     "name": "stdout",
     "output_type": "stream",
     "text": [
      "<class 'pandas.core.frame.DataFrame'>\n",
      "RangeIndex: 20000 entries, 0 to 19999\n",
      "Data columns (total 15 columns):\n",
      " #   Column          Non-Null Count  Dtype  \n",
      "---  ------          --------------  -----  \n",
      " 0   MATRICULA       20000 non-null  int64  \n",
      " 1   NOME            20000 non-null  object \n",
      " 2   REPROVACOES_DE  20000 non-null  int64  \n",
      " 3   REPROVACOES_EM  20000 non-null  int64  \n",
      " 4   REPROVACOES_MF  20000 non-null  int64  \n",
      " 5   REPROVACOES_GO  20000 non-null  int64  \n",
      " 6   NOTA_DE         20000 non-null  float64\n",
      " 7   NOTA_EM         20000 non-null  float64\n",
      " 8   NOTA_MF         20000 non-null  float64\n",
      " 9   NOTA_GO         16284 non-null  float64\n",
      " 10  INGLES          16372 non-null  float64\n",
      " 11  H_AULA_PRES     20000 non-null  int64  \n",
      " 12  TAREFAS_ONLINE  20000 non-null  int64  \n",
      " 13  FALTAS          20000 non-null  int64  \n",
      " 14  PERFIL          20000 non-null  object \n",
      "dtypes: float64(5), int64(8), object(2)\n",
      "memory usage: 2.3+ MB\n"
     ]
    }
   ],
   "source": [
    "df_data_1.info()"
   ]
  },
  {
   "cell_type": "markdown",
   "metadata": {},
   "source": [
    "É notado que existem variáveis do tipo ``float64`` (números \"decimais\"), variáveis do tipo ``int64`` (números inteiros) e do tipo ``object`` (nesse caso são *strings*, ou texto). \n",
    "\n",
    "Como a maioria dos algoritmos de aprendizado estatístico supervisionado só aceita valores numéricos como entrada, é necessário então o pré-processamento das variáveis do tipo \"object\" antes de usar esse dataset como entrada para o treinamento de um modelo. Também é notado que existem valores faltantes em várias colunas. Esses valores faltantes também devem ser tratados antes de serem construídos modelos com esse conjunto de dados base."
   ]
  },
  {
   "cell_type": "markdown",
   "metadata": {},
   "source": [
    "A função ``describe()`` gera várias informações sobre as variáveis numéricas que também podem ser úteis:"
   ]
  },
  {
   "cell_type": "code",
   "execution_count": 5,
   "metadata": {},
   "outputs": [
    {
     "data": {
      "text/html": [
       "<div>\n",
       "<style scoped>\n",
       "    .dataframe tbody tr th:only-of-type {\n",
       "        vertical-align: middle;\n",
       "    }\n",
       "\n",
       "    .dataframe tbody tr th {\n",
       "        vertical-align: top;\n",
       "    }\n",
       "\n",
       "    .dataframe thead th {\n",
       "        text-align: right;\n",
       "    }\n",
       "</style>\n",
       "<table border=\"1\" class=\"dataframe\">\n",
       "  <thead>\n",
       "    <tr style=\"text-align: right;\">\n",
       "      <th></th>\n",
       "      <th>MATRICULA</th>\n",
       "      <th>REPROVACOES_DE</th>\n",
       "      <th>REPROVACOES_EM</th>\n",
       "      <th>REPROVACOES_MF</th>\n",
       "      <th>REPROVACOES_GO</th>\n",
       "      <th>NOTA_DE</th>\n",
       "      <th>NOTA_EM</th>\n",
       "      <th>NOTA_MF</th>\n",
       "      <th>NOTA_GO</th>\n",
       "      <th>INGLES</th>\n",
       "      <th>H_AULA_PRES</th>\n",
       "      <th>TAREFAS_ONLINE</th>\n",
       "      <th>FALTAS</th>\n",
       "    </tr>\n",
       "  </thead>\n",
       "  <tbody>\n",
       "    <tr>\n",
       "      <th>count</th>\n",
       "      <td>20000.000000</td>\n",
       "      <td>20000.000000</td>\n",
       "      <td>20000.000000</td>\n",
       "      <td>20000.000000</td>\n",
       "      <td>20000.000000</td>\n",
       "      <td>20000.000000</td>\n",
       "      <td>20000.000000</td>\n",
       "      <td>20000.000000</td>\n",
       "      <td>16284.000000</td>\n",
       "      <td>16372.000000</td>\n",
       "      <td>20000.000000</td>\n",
       "      <td>20000.000000</td>\n",
       "      <td>20000.000000</td>\n",
       "    </tr>\n",
       "    <tr>\n",
       "      <th>mean</th>\n",
       "      <td>551148.271400</td>\n",
       "      <td>0.242850</td>\n",
       "      <td>0.242850</td>\n",
       "      <td>0.297650</td>\n",
       "      <td>0.293350</td>\n",
       "      <td>5.196560</td>\n",
       "      <td>5.080285</td>\n",
       "      <td>4.817630</td>\n",
       "      <td>4.534101</td>\n",
       "      <td>0.646286</td>\n",
       "      <td>5.102950</td>\n",
       "      <td>3.140300</td>\n",
       "      <td>4.060600</td>\n",
       "    </tr>\n",
       "    <tr>\n",
       "      <th>std</th>\n",
       "      <td>259488.766584</td>\n",
       "      <td>0.615055</td>\n",
       "      <td>0.615055</td>\n",
       "      <td>0.672813</td>\n",
       "      <td>0.661829</td>\n",
       "      <td>2.522545</td>\n",
       "      <td>2.523928</td>\n",
       "      <td>2.734775</td>\n",
       "      <td>2.509209</td>\n",
       "      <td>0.478136</td>\n",
       "      <td>4.118422</td>\n",
       "      <td>1.854909</td>\n",
       "      <td>1.674714</td>\n",
       "    </tr>\n",
       "    <tr>\n",
       "      <th>min</th>\n",
       "      <td>100003.000000</td>\n",
       "      <td>0.000000</td>\n",
       "      <td>0.000000</td>\n",
       "      <td>0.000000</td>\n",
       "      <td>0.000000</td>\n",
       "      <td>0.000000</td>\n",
       "      <td>0.000000</td>\n",
       "      <td>0.000000</td>\n",
       "      <td>0.000000</td>\n",
       "      <td>0.000000</td>\n",
       "      <td>0.000000</td>\n",
       "      <td>0.000000</td>\n",
       "      <td>1.000000</td>\n",
       "    </tr>\n",
       "    <tr>\n",
       "      <th>25%</th>\n",
       "      <td>326554.250000</td>\n",
       "      <td>0.000000</td>\n",
       "      <td>0.000000</td>\n",
       "      <td>0.000000</td>\n",
       "      <td>0.000000</td>\n",
       "      <td>5.200000</td>\n",
       "      <td>4.900000</td>\n",
       "      <td>4.700000</td>\n",
       "      <td>4.500000</td>\n",
       "      <td>0.000000</td>\n",
       "      <td>2.000000</td>\n",
       "      <td>2.000000</td>\n",
       "      <td>3.000000</td>\n",
       "    </tr>\n",
       "    <tr>\n",
       "      <th>50%</th>\n",
       "      <td>550630.000000</td>\n",
       "      <td>0.000000</td>\n",
       "      <td>0.000000</td>\n",
       "      <td>0.000000</td>\n",
       "      <td>0.000000</td>\n",
       "      <td>6.200000</td>\n",
       "      <td>5.900000</td>\n",
       "      <td>5.500000</td>\n",
       "      <td>5.400000</td>\n",
       "      <td>1.000000</td>\n",
       "      <td>4.000000</td>\n",
       "      <td>3.000000</td>\n",
       "      <td>4.000000</td>\n",
       "    </tr>\n",
       "    <tr>\n",
       "      <th>75%</th>\n",
       "      <td>775524.750000</td>\n",
       "      <td>0.000000</td>\n",
       "      <td>0.000000</td>\n",
       "      <td>0.000000</td>\n",
       "      <td>0.000000</td>\n",
       "      <td>6.700000</td>\n",
       "      <td>6.700000</td>\n",
       "      <td>6.500000</td>\n",
       "      <td>6.200000</td>\n",
       "      <td>1.000000</td>\n",
       "      <td>6.000000</td>\n",
       "      <td>5.000000</td>\n",
       "      <td>6.000000</td>\n",
       "    </tr>\n",
       "    <tr>\n",
       "      <th>max</th>\n",
       "      <td>999995.000000</td>\n",
       "      <td>3.000000</td>\n",
       "      <td>3.000000</td>\n",
       "      <td>3.000000</td>\n",
       "      <td>3.000000</td>\n",
       "      <td>9.000000</td>\n",
       "      <td>9.400000</td>\n",
       "      <td>11.500000</td>\n",
       "      <td>10.000000</td>\n",
       "      <td>1.000000</td>\n",
       "      <td>25.000000</td>\n",
       "      <td>7.000000</td>\n",
       "      <td>8.000000</td>\n",
       "    </tr>\n",
       "  </tbody>\n",
       "</table>\n",
       "</div>"
      ],
      "text/plain": [
       "           MATRICULA  REPROVACOES_DE  REPROVACOES_EM  REPROVACOES_MF  \\\n",
       "count   20000.000000    20000.000000    20000.000000    20000.000000   \n",
       "mean   551148.271400        0.242850        0.242850        0.297650   \n",
       "std    259488.766584        0.615055        0.615055        0.672813   \n",
       "min    100003.000000        0.000000        0.000000        0.000000   \n",
       "25%    326554.250000        0.000000        0.000000        0.000000   \n",
       "50%    550630.000000        0.000000        0.000000        0.000000   \n",
       "75%    775524.750000        0.000000        0.000000        0.000000   \n",
       "max    999995.000000        3.000000        3.000000        3.000000   \n",
       "\n",
       "       REPROVACOES_GO       NOTA_DE       NOTA_EM       NOTA_MF       NOTA_GO  \\\n",
       "count    20000.000000  20000.000000  20000.000000  20000.000000  16284.000000   \n",
       "mean         0.293350      5.196560      5.080285      4.817630      4.534101   \n",
       "std          0.661829      2.522545      2.523928      2.734775      2.509209   \n",
       "min          0.000000      0.000000      0.000000      0.000000      0.000000   \n",
       "25%          0.000000      5.200000      4.900000      4.700000      4.500000   \n",
       "50%          0.000000      6.200000      5.900000      5.500000      5.400000   \n",
       "75%          0.000000      6.700000      6.700000      6.500000      6.200000   \n",
       "max          3.000000      9.000000      9.400000     11.500000     10.000000   \n",
       "\n",
       "             INGLES   H_AULA_PRES  TAREFAS_ONLINE        FALTAS  \n",
       "count  16372.000000  20000.000000    20000.000000  20000.000000  \n",
       "mean       0.646286      5.102950        3.140300      4.060600  \n",
       "std        0.478136      4.118422        1.854909      1.674714  \n",
       "min        0.000000      0.000000        0.000000      1.000000  \n",
       "25%        0.000000      2.000000        2.000000      3.000000  \n",
       "50%        1.000000      4.000000        3.000000      4.000000  \n",
       "75%        1.000000      6.000000        5.000000      6.000000  \n",
       "max        1.000000     25.000000        7.000000      8.000000  "
      ]
     },
     "execution_count": 5,
     "metadata": {},
     "output_type": "execute_result"
    }
   ],
   "source": [
    "df_data_1.describe()"
   ]
  },
  {
   "cell_type": "markdown",
   "metadata": {},
   "source": [
    "### Visualizações\n",
    "\n",
    "Para visualizar o dataset fornecido, podemos utilizar as bibliotecas ``matplotlib`` e ``seaborn``:"
   ]
  },
  {
   "cell_type": "code",
   "execution_count": 6,
   "metadata": {},
   "outputs": [],
   "source": [
    "import matplotlib.pyplot as plt\n",
    "import seaborn as sns\n",
    "%matplotlib inline"
   ]
  },
  {
   "cell_type": "code",
   "execution_count": 7,
   "metadata": {},
   "outputs": [
    {
     "data": {
      "text/plain": [
       "<AxesSubplot:xlabel='REPROVACOES_GO', ylabel='count'>"
      ]
     },
     "execution_count": 7,
     "metadata": {},
     "output_type": "execute_result"
    },
    {
     "data": {
      "image/png": "[encoded data removed]",
      "text/plain": [
       "<Figure size 2016x288 with 4 Axes>"
      ]
     },
     "metadata": {
      "needs_background": "light"
     },
     "output_type": "display_data"
    }
   ],
   "source": [
    "fig, axes = plt.subplots(nrows=1, ncols=4, figsize=(28, 4))\n",
    "\n",
    "sns.countplot(ax=axes[0], x='REPROVACOES_DE', data=df_data_1)\n",
    "sns.countplot(ax=axes[1], x='REPROVACOES_EM', data=df_data_1)\n",
    "sns.countplot(ax=axes[2], x='REPROVACOES_MF', data=df_data_1)\n",
    "sns.countplot(ax=axes[3], x='REPROVACOES_GO', data=df_data_1)"
   ]
  },
  {
   "cell_type": "code",
   "execution_count": 8,
   "metadata": {},
   "outputs": [
    {
     "data": {
      "text/plain": [
       "<AxesSubplot:xlabel='NOTA_GO'>"
      ]
     },
     "execution_count": 8,
     "metadata": {},
     "output_type": "execute_result"
    },
    {
     "data": {
      "image/png": "[encoded data removed]",
      "text/plain": [
       "<Figure size 2016x288 with 4 Axes>"
      ]
     },
     "metadata": {
      "needs_background": "light"
     },
     "output_type": "display_data"
    }
   ],
   "source": [
    "fig, axes = plt.subplots(nrows=1, ncols=4, figsize=(28, 4))\n",
    "\n",
    "sns.distplot(df_data_1['NOTA_DE'], ax=axes[0])\n",
    "sns.distplot(df_data_1['NOTA_EM'], ax=axes[1])\n",
    "sns.distplot(df_data_1['NOTA_MF'], ax=axes[2])\n",
    "sns.distplot(df_data_1['NOTA_GO'].dropna(), ax=axes[3])"
   ]
  },
  {
   "cell_type": "code",
   "execution_count": 9,
   "metadata": {
    "scrolled": true
   },
   "outputs": [
    {
     "data": {
      "text/plain": [
       "<AxesSubplot:xlabel='TAREFAS_ONLINE', ylabel='count'>"
      ]
     },
     "execution_count": 9,
     "metadata": {},
     "output_type": "execute_result"
    },
    {
     "data": {
      "image/png": "[encoded data removed]",
      "text/plain": [
       "<Figure size 2016x288 with 4 Axes>"
      ]
     },
     "metadata": {
      "needs_background": "light"
     },
     "output_type": "display_data"
    }
   ],
   "source": [
    "fig, axes = plt.subplots(nrows=1, ncols=4, figsize=(28, 4))\n",
    "\n",
    "sns.countplot(ax=axes[0], x='INGLES', data=df_data_1)\n",
    "sns.countplot(ax=axes[1], x='FALTAS', data=df_data_1)\n",
    "sns.countplot(ax=axes[2], x='H_AULA_PRES', data=df_data_1)\n",
    "sns.countplot(ax=axes[3], x='TAREFAS_ONLINE', data=df_data_1)"
   ]
  },
  {
   "cell_type": "code",
   "execution_count": 10,
   "metadata": {},
   "outputs": [
    {
     "data": {
      "text/plain": [
       "<AxesSubplot:xlabel='PERFIL', ylabel='count'>"
      ]
     },
     "execution_count": 10,
     "metadata": {},
     "output_type": "execute_result"
    },
    {
     "data": {
      "image/png": "[encoded data removed]",
      "text/plain": [
       "<Figure size 432x288 with 1 Axes>"
      ]
     },
     "metadata": {
      "needs_background": "light"
     },
     "output_type": "display_data"
    }
   ],
   "source": [
    "fig = plt.plot()\n",
    "sns.countplot(x='PERFIL', data=df_data_1)"
   ]
  },
  {
   "cell_type": "markdown",
   "metadata": {},
   "source": [
    "### Realizando o pré-processamento dos dados"
   ]
  },
  {
   "cell_type": "markdown",
   "metadata": {},
   "source": [
    "Para o pré-processamento dos dados serão apresentadas duas transformações básicas neste notebook, demonstrando a construção de uma Pipeline com um modelo funcional. Esta Pipeline funcional fornecida deverá ser melhorada pelo participante para que o modelo final alcance a maior acurácia possível, garantindo uma pontuação maior no desafio. Essa melhoria pode ser feita apenas no pré-processamento dos dados, na escolha de um algoritmo para treinamento de modelo diferente, ou até mesmo na alteração do *framework* usado (entretanto só será fornecido um exemplo pronto de integração do Watson Machine Learning com o *scikit-learn*).\n",
    "\n",
    "A primeira transformação (passo na nossa Pipeline) será a exclusão da coluna \"NOME\" do nosso dataset, que além de não ser uma variável numérica, também não é uma variável relacionada ao desempenho dos estudantes nas disciplinas. Existem funções prontas no scikit-learn para a realização dessa transformação, entretanto nosso exemplo irá demonstrar como criar uma transformação personalizada do zero no scikit-learn. Se desejado, o participante poderá utilizar esse exemplo para criar outras transformações e adicioná-las à Pipeline final :)"
   ]
  },
  {
   "cell_type": "markdown",
   "metadata": {},
   "source": [
    "#### Transformação 1: excluindo colunas do dataset\n",
    "\n",
    "Para a criação de uma transformação de dados personalizada no scikit-learn, é necessária basicamente a criação de uma classe com os métodos ``transform`` e ``fit``. No método transform será executada a lógica da nossa transformação.\n",
    "\n",
    "Na próxima célula é apresentado o código completo de uma transformação ``DropColumns`` para a remoção de colunas de um DataFrame pandas."
   ]
  },
  {
   "cell_type": "code",
   "execution_count": 11,
   "metadata": {},
   "outputs": [],
   "source": [
    "from sklearn.base import BaseEstimator, TransformerMixin\n",
    "import numpy\n",
    "\n",
    "# All sklearn Transforms must have the `transform` and `fit` methods\n",
    "class DropColumns(BaseEstimator, TransformerMixin):\n",
    "    def __init__(self, columns):\n",
    "        self.columns = columns\n",
    "\n",
    "    def fit(self, X, y=None):\n",
    "        return self\n",
    "    \n",
    "    def transform(self, X):\n",
    "        # Primeiro realizamos a cópia do dataframe 'X' de entrada\n",
    "        data = X.copy()\n",
    "        # Retornamos um novo dataframe sem as colunas indesejadas\n",
    "        return data.drop(labels=self.columns, axis='columns')\n",
    "    \n",
    "class DataTransform(BaseEstimator, TransformerMixin):\n",
    "    def __init__(self):\n",
    "        return\n",
    "\n",
    "    def fit(self, X, y=None):\n",
    "        return self\n",
    "    \n",
    "class DataTransform(BaseEstimator, TransformerMixin):\n",
    "    def __init__(self):\n",
    "        return\n",
    "\n",
    "    def fit(self, X, y=None):\n",
    "        return self\n",
    "    \n",
    "    def transform(self, X):\n",
    "        data = X.copy()\n",
    "\n",
    "        # Replica the same grade to discipline of the same area\n",
    "        for index, row in data.iterrows():\n",
    "            if(type(row['NOTA_DE']) == float and pd.isna(row['NOTA_DE'])):\n",
    "                data.loc[data.index == index, 'NOTA_DE'] = row['NOTA_EM']\n",
    "            if(type(row['NOTA_EM']) == float and pd.isna(row['NOTA_EM'])):\n",
    "                data.loc[data.index == index, 'NOTA_EM'] = row['NOTA_DE']\n",
    "            if(type(row['NOTA_MF']) == float and pd.isna(row['NOTA_MF'])):\n",
    "                data.loc[data.index == index, 'NOTA_MF'] = row['NOTA_GO']\n",
    "            if(type(row['NOTA_GO']) == float and pd.isna(row['NOTA_GO'])):\n",
    "                data.loc[data.index == index, 'NOTA_GO'] = row['NOTA_MF']        \n",
    "\n",
    "        # Adjusting grades upper than 10\n",
    "        data['NOTA_DE'] = data['NOTA_DE'].apply(lambda x: 10 if x > 10 else x) \n",
    "        data['NOTA_EM'] = data['NOTA_EM'].apply(lambda x: 10 if x > 10 else x) \n",
    "        data['NOTA_MF'] = data['NOTA_MF'].apply(lambda x: 10 if x > 10 else x) \n",
    "        data['NOTA_GO'] = data['NOTA_GO'].apply(lambda x: 10 if x > 10 else x) \n",
    "\n",
    "        # Adjusting grades lower than zero\n",
    "        data['NOTA_DE'] = data['NOTA_DE'].apply(lambda x: 0 if x < 0 else x) \n",
    "        data['NOTA_EM'] = data['NOTA_EM'].apply(lambda x: 0 if x < 0 else x) \n",
    "        data['NOTA_MF'] = data['NOTA_MF'].apply(lambda x: 0 if x < 0 else x) \n",
    "        data['NOTA_GO'] = data['NOTA_GO'].apply(lambda x: 0 if x < 0 else x) \n",
    "\n",
    "        # Sqrt grade\n",
    "        data['SQRT_NOTA_DE'] = data['NOTA_DE'].apply(lambda x: numpy.sqrt(x)) \n",
    "        data['SQRT_NOTA_EM'] = data['NOTA_EM'].apply(lambda x: numpy.sqrt(x)) \n",
    "        data['SQRT_NOTA_MF'] = data['NOTA_MF'].apply(lambda x: numpy.sqrt(x)) \n",
    "        data['SQRT_NOTA_GO'] = data['NOTA_GO'].apply(lambda x: numpy.sqrt(x)) \n",
    "\n",
    "        # Bellow or Above the mean\n",
    "        data['AUX_NOTA_DE'] = data['NOTA_DE'].apply(lambda x: 0 if x < 7 else 1) \n",
    "        data['AUX_NOTA_EM'] = data['NOTA_EM'].apply(lambda x: 0 if x < 7 else 1) \n",
    "        data['AUX_NOTA_MF'] = data['NOTA_MF'].apply(lambda x: 0 if x < 7 else 1) \n",
    "        data['AUX_NOTA_GO'] = data['NOTA_GO'].apply(lambda x: 0 if x < 7 else 1) \n",
    "\n",
    "        # Convert to binary\n",
    "        data['REPROVACOES_DE'] = data['REPROVACOES_DE'].apply(lambda x: 1 if x > 1 else 0) \n",
    "        data['REPROVACOES_EM'] = data['REPROVACOES_EM'].apply(lambda x: 1 if x > 1 else 0) \n",
    "        data['REPROVACOES_MF'] = data['REPROVACOES_MF'].apply(lambda x: 1 if x > 1 else 0) \n",
    "        data['REPROVACOES_GO'] = data['REPROVACOES_GO'].apply(lambda x: 1 if x > 1 else 0)\n",
    "\n",
    "        return data\n",
    "\n",
    "class Smote(BaseEstimator, TransformerMixin):\n",
    "    def __init__(self, features, target):\n",
    "        self.features = features\n",
    "        self.target = target\n",
    "        return\n",
    "\n",
    "    def fit(self, X, y=None):\n",
    "        return self\n",
    "\n",
    "    def transform(self, X):\n",
    "        from imblearn.over_sampling import SMOTE\n",
    "        data = X.copy()\n",
    "        \n",
    "        print(self.features)\n",
    "        print(self.target)\n",
    "\n",
    "        X = data[self.features]\n",
    "        y = data[self.target]\n",
    "        \n",
    "        X, y = SMOTE().fit_resample(X, y.values.ravel())\n",
    "        \n",
    "        X = pd.DataFrame(data=X, index=None, columns=self.features)\n",
    "        y = pd.DataFrame(data=y, index=None, columns=self.target)\n",
    "\n",
    "        return X, y"
   ]
  },
  {
   "cell_type": "markdown",
   "metadata": {},
   "source": [
    "Para aplicar essa transformação em um DataFrame pandas, basta instanciar um objeto *DropColumns* e chamar o método transform()."
   ]
  },
  {
   "cell_type": "code",
   "execution_count": 12,
   "metadata": {},
   "outputs": [
    {
     "name": "stdout",
     "output_type": "stream",
     "text": [
      "DropColumns(columns=['NOME'])\n"
     ]
    }
   ],
   "source": [
    "# Instanciando uma transformação DropColumns\n",
    "rm_columns = DropColumns(\n",
    "    columns=[\"NOME\"]  # Essa transformação recebe como parâmetro uma lista com os nomes das colunas indesejadas\n",
    ")\n",
    "\n",
    "print(rm_columns)"
   ]
  },
  {
   "cell_type": "code",
   "execution_count": 13,
   "metadata": {},
   "outputs": [
    {
     "name": "stdout",
     "output_type": "stream",
     "text": [
      "Colunas do dataset original: \n",
      "\n",
      "Index(['MATRICULA', 'NOME', 'REPROVACOES_DE', 'REPROVACOES_EM',\n",
      "       'REPROVACOES_MF', 'REPROVACOES_GO', 'NOTA_DE', 'NOTA_EM', 'NOTA_MF',\n",
      "       'NOTA_GO', 'INGLES', 'H_AULA_PRES', 'TAREFAS_ONLINE', 'FALTAS',\n",
      "       'PERFIL'],\n",
      "      dtype='object')\n"
     ]
    }
   ],
   "source": [
    "# Visualizando as colunas do dataset original\n",
    "print(\"Colunas do dataset original: \\n\")\n",
    "print(df_data_1.columns)"
   ]
  },
  {
   "cell_type": "code",
   "execution_count": 14,
   "metadata": {},
   "outputs": [],
   "source": [
    "# Aplicando a transformação ``DropColumns`` ao conjunto de dados base\n",
    "rm_columns.fit(X=df_data_1)\n",
    "\n",
    "# Reconstruindo um DataFrame Pandas com o resultado da transformação\n",
    "df_data_2 = pd.DataFrame.from_records(\n",
    "    data=rm_columns.transform(\n",
    "        X=df_data_1\n",
    "    )    \n",
    ")\n",
    "\n",
    "dataTransform = DataTransform()\n",
    "df_data_2 = pd.DataFrame.from_records(\n",
    "    data=dataTransform.transform(\n",
    "        X=df_data_2\n",
    "    )    \n",
    ")"
   ]
  },
  {
   "cell_type": "code",
   "execution_count": 15,
   "metadata": {},
   "outputs": [
    {
     "name": "stdout",
     "output_type": "stream",
     "text": [
      "Colunas do dataset após a transformação ``DropColumns``: \n",
      "\n",
      "Index(['MATRICULA', 'REPROVACOES_DE', 'REPROVACOES_EM', 'REPROVACOES_MF',\n",
      "       'REPROVACOES_GO', 'NOTA_DE', 'NOTA_EM', 'NOTA_MF', 'NOTA_GO', 'INGLES',\n",
      "       'H_AULA_PRES', 'TAREFAS_ONLINE', 'FALTAS', 'PERFIL', 'SQRT_NOTA_DE',\n",
      "       'SQRT_NOTA_EM', 'SQRT_NOTA_MF', 'SQRT_NOTA_GO', 'AUX_NOTA_DE',\n",
      "       'AUX_NOTA_EM', 'AUX_NOTA_MF', 'AUX_NOTA_GO'],\n",
      "      dtype='object')\n",
      "19501    1\n",
      "3082     1\n",
      "9313     1\n",
      "12027    1\n",
      "15259    1\n",
      "        ..\n",
      "13232    0\n",
      "13233    0\n",
      "13234    0\n",
      "13235    0\n",
      "0        0\n",
      "Name: REPROVACOES_DE, Length: 20000, dtype: int64\n"
     ]
    }
   ],
   "source": [
    "# Visualizando as colunas do dataset transformado\n",
    "print(\"Colunas do dataset após a transformação ``DropColumns``: \\n\")\n",
    "print(df_data_2.columns)\n",
    "# print(df_data_2.head())\n",
    "print(df_data_2['REPROVACOES_DE'].sort_values(ascending=False))\n",
    "# print(print(df_data_2['NOTA_EM'].sort_values(ascending=False)))\n",
    "# print(print(df_data_2['NOTA_MF'].sort_values(ascending=False)))\n",
    "# print(print(df_data_2['NOTA_GO'].sort_values(ascending=False)))"
   ]
  },
  {
   "cell_type": "markdown",
   "metadata": {},
   "source": [
    "Nota-se que a coluna \"NOME\" foi removida e nosso dataset agora poossui apenas 17 colunas."
   ]
  },
  {
   "cell_type": "markdown",
   "metadata": {},
   "source": [
    "#### Transformação 2: tratando dados faltantes\n",
    "\n",
    "Para tratar os dados faltantes em nosso conjunto de dados, iremos agora utilizar uma transformação pronta da biblioteca scikit-learn, chamada **SimpleImputer**.\n",
    "\n",
    "Essa transformação permite diversas estratégias para o tratamento de dados faltantes. A documentação oficial pode ser encontrada em: https://scikit-learn.org/stable/modules/generated/sklearn.impute.SimpleImputer.html\n",
    "\n",
    "Neste exemplo iremos simplesmente transformar todos os valores faltantes em zero."
   ]
  },
  {
   "cell_type": "code",
   "execution_count": 16,
   "metadata": {},
   "outputs": [],
   "source": [
    "# Criação de um objeto ``SimpleImputer``\n",
    "si = SimpleImputer(\n",
    "    missing_values=np.nan,  # os valores faltantes são do tipo ``np.nan`` (padrão Pandas)\n",
    "    strategy='constant',  # a estratégia escolhida é a alteração do valor faltante por uma constante\n",
    "    fill_value=0,  # a constante que será usada para preenchimento dos valores faltantes é um int64=0.\n",
    "    verbose=0,\n",
    "    copy=True\n",
    ")"
   ]
  },
  {
   "cell_type": "code",
   "execution_count": 17,
   "metadata": {},
   "outputs": [
    {
     "name": "stdout",
     "output_type": "stream",
     "text": [
      "Valores nulos antes da transformação SimpleImputer: \n",
      "\n",
      "MATRICULA            0\n",
      "REPROVACOES_DE       0\n",
      "REPROVACOES_EM       0\n",
      "REPROVACOES_MF       0\n",
      "REPROVACOES_GO       0\n",
      "NOTA_DE              0\n",
      "NOTA_EM              0\n",
      "NOTA_MF              0\n",
      "NOTA_GO              0\n",
      "INGLES            3628\n",
      "H_AULA_PRES          0\n",
      "TAREFAS_ONLINE       0\n",
      "FALTAS               0\n",
      "PERFIL               0\n",
      "SQRT_NOTA_DE         0\n",
      "SQRT_NOTA_EM         0\n",
      "SQRT_NOTA_MF         0\n",
      "SQRT_NOTA_GO         0\n",
      "AUX_NOTA_DE          0\n",
      "AUX_NOTA_EM          0\n",
      "AUX_NOTA_MF          0\n",
      "AUX_NOTA_GO          0\n",
      "dtype: int64\n",
      "\n"
     ]
    }
   ],
   "source": [
    "# Visualizando os dados faltantes do dataset após a primeira transformação (df_data_2)\n",
    "print(\"Valores nulos antes da transformação SimpleImputer: \\n\\n{}\\n\".format(df_data_2.isnull().sum(axis = 0)))"
   ]
  },
  {
   "cell_type": "code",
   "execution_count": 18,
   "metadata": {},
   "outputs": [],
   "source": [
    "# Aplicamos o SimpleImputer ``si`` ao conjunto de dados df_data_2 (resultado da primeira transformação)\n",
    "si.fit(X=df_data_2)\n",
    "\n",
    "# Reconstrução de um novo DataFrame Pandas com o conjunto imputado (df_data_3)\n",
    "df_data_3 = pd.DataFrame.from_records(\n",
    "    data=si.transform(\n",
    "        X=df_data_2\n",
    "    ),  # o resultado SimpleImputer.transform(<<pandas dataframe>>) é lista de listas\n",
    "    columns=df_data_2.columns  # as colunas originais devem ser conservadas nessa transformação\n",
    ")"
   ]
  },
  {
   "cell_type": "code",
   "execution_count": 19,
   "metadata": {},
   "outputs": [
    {
     "name": "stdout",
     "output_type": "stream",
     "text": [
      "Valores nulos no dataset após a transformação SimpleImputer: \n",
      "\n",
      "MATRICULA         0\n",
      "REPROVACOES_DE    0\n",
      "REPROVACOES_EM    0\n",
      "REPROVACOES_MF    0\n",
      "REPROVACOES_GO    0\n",
      "NOTA_DE           0\n",
      "NOTA_EM           0\n",
      "NOTA_MF           0\n",
      "NOTA_GO           0\n",
      "INGLES            0\n",
      "H_AULA_PRES       0\n",
      "TAREFAS_ONLINE    0\n",
      "FALTAS            0\n",
      "PERFIL            0\n",
      "SQRT_NOTA_DE      0\n",
      "SQRT_NOTA_EM      0\n",
      "SQRT_NOTA_MF      0\n",
      "SQRT_NOTA_GO      0\n",
      "AUX_NOTA_DE       0\n",
      "AUX_NOTA_EM       0\n",
      "AUX_NOTA_MF       0\n",
      "AUX_NOTA_GO       0\n",
      "dtype: int64\n",
      "\n"
     ]
    }
   ],
   "source": [
    "# Visualizando os dados faltantes do dataset após a segunda transformação (SimpleImputer) (df_data_3)\n",
    "print(\"Valores nulos no dataset após a transformação SimpleImputer: \\n\\n{}\\n\".format(df_data_3.isnull().sum(axis = 0)))"
   ]
  },
  {
   "cell_type": "markdown",
   "metadata": {},
   "source": [
    "Nota-se que não temos mais nenhum valor faltante no nosso conjunto de dados :)\n",
    "\n",
    "Vale salientar que nem sempre a alteração dos valores faltantes por 0 é a melhor estratégia. O participante é incentivado a estudar e implementar estratégias diferentes de tratamento dos valores faltantes para aprimorar seu modelo e melhorar sua pontuação final."
   ]
  },
  {
   "cell_type": "markdown",
   "metadata": {},
   "source": [
    "#### Transformação 3: standardScaler\n"
   ]
  },
  {
   "cell_type": "code",
   "execution_count": 20,
   "metadata": {},
   "outputs": [],
   "source": [
    "# from sklearn.preprocessing import LabelEncoder, StandardScaler\n",
    "\n",
    "# class StandardTransform(BaseEstimator,TransformerMixin):\n",
    "#     def __init__(self):\n",
    "#         self.scaler = StandardScaler()\n",
    "\n",
    "#     def fit(self,X, y= None):\n",
    "#         return self\n",
    "    \n",
    "#     def transform(self,X):\n",
    "#         data = self.scaler.fit_transform(X)\n",
    "#         return data   "
   ]
  },
  {
   "cell_type": "code",
   "execution_count": 21,
   "metadata": {},
   "outputs": [],
   "source": [
    "# std_transform = StandardTransform()\n",
    "\n",
    "# std_transform.fit(X=df_data_3)\n",
    "\n",
    "# df_data_3 = pd.DataFrame.from_records(\n",
    "#     data=std_transform.transform(\n",
    "#         X=df_data_3\n",
    "#     ),  # o resultado SimpleImputer.transform(<<pandas dataframe>>) é lista de listas\n",
    "#     columns=df_data_3.columns  # as colunas originais devem ser conservadas nessa transformação\n",
    "# )\n"
   ]
  },
  {
   "cell_type": "markdown",
   "metadata": {},
   "source": [
    "### Treinando um modelo de classificação"
   ]
  },
  {
   "cell_type": "markdown",
   "metadata": {},
   "source": [
    "Finalizado o pré-processamento, já temos o conjunto de dados no formato necessário para o treinamento do nosso modelo:"
   ]
  },
  {
   "cell_type": "code",
   "execution_count": 22,
   "metadata": {},
   "outputs": [
    {
     "data": {
      "text/html": [
       "<div>\n",
       "<style scoped>\n",
       "    .dataframe tbody tr th:only-of-type {\n",
       "        vertical-align: middle;\n",
       "    }\n",
       "\n",
       "    .dataframe tbody tr th {\n",
       "        vertical-align: top;\n",
       "    }\n",
       "\n",
       "    .dataframe thead th {\n",
       "        text-align: right;\n",
       "    }\n",
       "</style>\n",
       "<table border=\"1\" class=\"dataframe\">\n",
       "  <thead>\n",
       "    <tr style=\"text-align: right;\">\n",
       "      <th></th>\n",
       "      <th>MATRICULA</th>\n",
       "      <th>REPROVACOES_DE</th>\n",
       "      <th>REPROVACOES_EM</th>\n",
       "      <th>REPROVACOES_MF</th>\n",
       "      <th>REPROVACOES_GO</th>\n",
       "      <th>NOTA_DE</th>\n",
       "      <th>NOTA_EM</th>\n",
       "      <th>NOTA_MF</th>\n",
       "      <th>NOTA_GO</th>\n",
       "      <th>INGLES</th>\n",
       "      <th>...</th>\n",
       "      <th>FALTAS</th>\n",
       "      <th>PERFIL</th>\n",
       "      <th>SQRT_NOTA_DE</th>\n",
       "      <th>SQRT_NOTA_EM</th>\n",
       "      <th>SQRT_NOTA_MF</th>\n",
       "      <th>SQRT_NOTA_GO</th>\n",
       "      <th>AUX_NOTA_DE</th>\n",
       "      <th>AUX_NOTA_EM</th>\n",
       "      <th>AUX_NOTA_MF</th>\n",
       "      <th>AUX_NOTA_GO</th>\n",
       "    </tr>\n",
       "  </thead>\n",
       "  <tbody>\n",
       "    <tr>\n",
       "      <th>0</th>\n",
       "      <td>502375</td>\n",
       "      <td>0</td>\n",
       "      <td>0</td>\n",
       "      <td>0</td>\n",
       "      <td>0</td>\n",
       "      <td>6.2</td>\n",
       "      <td>5.8</td>\n",
       "      <td>4.6</td>\n",
       "      <td>5.9</td>\n",
       "      <td>0.0</td>\n",
       "      <td>...</td>\n",
       "      <td>3</td>\n",
       "      <td>EXATAS</td>\n",
       "      <td>2.489980</td>\n",
       "      <td>2.408319</td>\n",
       "      <td>2.144761</td>\n",
       "      <td>2.428992</td>\n",
       "      <td>0</td>\n",
       "      <td>0</td>\n",
       "      <td>0</td>\n",
       "      <td>0</td>\n",
       "    </tr>\n",
       "    <tr>\n",
       "      <th>1</th>\n",
       "      <td>397093</td>\n",
       "      <td>0</td>\n",
       "      <td>0</td>\n",
       "      <td>0</td>\n",
       "      <td>0</td>\n",
       "      <td>6.0</td>\n",
       "      <td>6.2</td>\n",
       "      <td>5.2</td>\n",
       "      <td>4.5</td>\n",
       "      <td>1.0</td>\n",
       "      <td>...</td>\n",
       "      <td>3</td>\n",
       "      <td>EXATAS</td>\n",
       "      <td>2.449490</td>\n",
       "      <td>2.489980</td>\n",
       "      <td>2.280351</td>\n",
       "      <td>2.121320</td>\n",
       "      <td>0</td>\n",
       "      <td>0</td>\n",
       "      <td>0</td>\n",
       "      <td>0</td>\n",
       "    </tr>\n",
       "    <tr>\n",
       "      <th>2</th>\n",
       "      <td>915288</td>\n",
       "      <td>0</td>\n",
       "      <td>0</td>\n",
       "      <td>0</td>\n",
       "      <td>0</td>\n",
       "      <td>7.3</td>\n",
       "      <td>6.7</td>\n",
       "      <td>7.1</td>\n",
       "      <td>7.2</td>\n",
       "      <td>0.0</td>\n",
       "      <td>...</td>\n",
       "      <td>3</td>\n",
       "      <td>HUMANAS</td>\n",
       "      <td>2.701851</td>\n",
       "      <td>2.588436</td>\n",
       "      <td>2.664583</td>\n",
       "      <td>2.683282</td>\n",
       "      <td>1</td>\n",
       "      <td>0</td>\n",
       "      <td>1</td>\n",
       "      <td>1</td>\n",
       "    </tr>\n",
       "    <tr>\n",
       "      <th>3</th>\n",
       "      <td>192652</td>\n",
       "      <td>0</td>\n",
       "      <td>1</td>\n",
       "      <td>0</td>\n",
       "      <td>0</td>\n",
       "      <td>0.0</td>\n",
       "      <td>0.0</td>\n",
       "      <td>0.0</td>\n",
       "      <td>0.0</td>\n",
       "      <td>1.0</td>\n",
       "      <td>...</td>\n",
       "      <td>4</td>\n",
       "      <td>DIFICULDADE</td>\n",
       "      <td>0.000000</td>\n",
       "      <td>0.000000</td>\n",
       "      <td>0.000000</td>\n",
       "      <td>0.000000</td>\n",
       "      <td>0</td>\n",
       "      <td>0</td>\n",
       "      <td>0</td>\n",
       "      <td>0</td>\n",
       "    </tr>\n",
       "    <tr>\n",
       "      <th>4</th>\n",
       "      <td>949491</td>\n",
       "      <td>0</td>\n",
       "      <td>1</td>\n",
       "      <td>0</td>\n",
       "      <td>0</td>\n",
       "      <td>0.0</td>\n",
       "      <td>0.0</td>\n",
       "      <td>0.0</td>\n",
       "      <td>0.0</td>\n",
       "      <td>1.0</td>\n",
       "      <td>...</td>\n",
       "      <td>5</td>\n",
       "      <td>DIFICULDADE</td>\n",
       "      <td>0.000000</td>\n",
       "      <td>0.000000</td>\n",
       "      <td>0.000000</td>\n",
       "      <td>0.000000</td>\n",
       "      <td>0</td>\n",
       "      <td>0</td>\n",
       "      <td>0</td>\n",
       "      <td>0</td>\n",
       "    </tr>\n",
       "  </tbody>\n",
       "</table>\n",
       "<p>5 rows × 22 columns</p>\n",
       "</div>"
      ],
      "text/plain": [
       "   MATRICULA  REPROVACOES_DE  REPROVACOES_EM  REPROVACOES_MF  REPROVACOES_GO  \\\n",
       "0     502375               0               0               0               0   \n",
       "1     397093               0               0               0               0   \n",
       "2     915288               0               0               0               0   \n",
       "3     192652               0               1               0               0   \n",
       "4     949491               0               1               0               0   \n",
       "\n",
       "   NOTA_DE  NOTA_EM  NOTA_MF  NOTA_GO  INGLES  ...  FALTAS       PERFIL  \\\n",
       "0      6.2      5.8      4.6      5.9     0.0  ...       3       EXATAS   \n",
       "1      6.0      6.2      5.2      4.5     1.0  ...       3       EXATAS   \n",
       "2      7.3      6.7      7.1      7.2     0.0  ...       3      HUMANAS   \n",
       "3      0.0      0.0      0.0      0.0     1.0  ...       4  DIFICULDADE   \n",
       "4      0.0      0.0      0.0      0.0     1.0  ...       5  DIFICULDADE   \n",
       "\n",
       "   SQRT_NOTA_DE SQRT_NOTA_EM  SQRT_NOTA_MF  SQRT_NOTA_GO  AUX_NOTA_DE  \\\n",
       "0      2.489980     2.408319      2.144761      2.428992            0   \n",
       "1      2.449490     2.489980      2.280351      2.121320            0   \n",
       "2      2.701851     2.588436      2.664583      2.683282            1   \n",
       "3      0.000000     0.000000      0.000000      0.000000            0   \n",
       "4      0.000000     0.000000      0.000000      0.000000            0   \n",
       "\n",
       "   AUX_NOTA_EM  AUX_NOTA_MF  AUX_NOTA_GO  \n",
       "0            0            0            0  \n",
       "1            0            0            0  \n",
       "2            0            1            1  \n",
       "3            0            0            0  \n",
       "4            0            0            0  \n",
       "\n",
       "[5 rows x 22 columns]"
      ]
     },
     "execution_count": 22,
     "metadata": {},
     "output_type": "execute_result"
    }
   ],
   "source": [
    "df_data_3.head()"
   ]
  },
  {
   "cell_type": "markdown",
   "metadata": {},
   "source": [
    "No exemplo fornecido, iremos utilizar todas as colunas, exceto a coluna **LABELS** como *features* (variáveis de entrada).\n",
    "\n",
    "A variável **LABELS** será a variável-alvo do modelo, conforme descrito no enunciado do desafio."
   ]
  },
  {
   "cell_type": "markdown",
   "metadata": {},
   "source": [
    "#### Definindo as features do modelo"
   ]
  },
  {
   "cell_type": "code",
   "execution_count": 28,
   "metadata": {},
   "outputs": [
    {
     "ename": "KeyError",
     "evalue": "'PERFIL'",
     "output_type": "error",
     "traceback": [
      "\u001b[0;31m---------------------------------------------------------------------------\u001b[0m",
      "\u001b[0;31mKeyError\u001b[0m                                  Traceback (most recent call last)",
      "\u001b[0;32m/usr/local/lib/python3.6/dist-packages/pandas/core/indexes/base.py\u001b[0m in \u001b[0;36mget_loc\u001b[0;34m(self, key, method, tolerance)\u001b[0m\n\u001b[1;32m   2888\u001b[0m             \u001b[0;32mtry\u001b[0m\u001b[0;34m:\u001b[0m\u001b[0;34m\u001b[0m\u001b[0;34m\u001b[0m\u001b[0m\n\u001b[0;32m-> 2889\u001b[0;31m                 \u001b[0;32mreturn\u001b[0m \u001b[0mself\u001b[0m\u001b[0;34m.\u001b[0m\u001b[0m_engine\u001b[0m\u001b[0;34m.\u001b[0m\u001b[0mget_loc\u001b[0m\u001b[0;34m(\u001b[0m\u001b[0mcasted_key\u001b[0m\u001b[0;34m)\u001b[0m\u001b[0;34m\u001b[0m\u001b[0;34m\u001b[0m\u001b[0m\n\u001b[0m\u001b[1;32m   2890\u001b[0m             \u001b[0;32mexcept\u001b[0m \u001b[0mKeyError\u001b[0m \u001b[0;32mas\u001b[0m \u001b[0merr\u001b[0m\u001b[0;34m:\u001b[0m\u001b[0;34m\u001b[0m\u001b[0;34m\u001b[0m\u001b[0m\n",
      "\u001b[0;32mpandas/_libs/index.pyx\u001b[0m in \u001b[0;36mpandas._libs.index.IndexEngine.get_loc\u001b[0;34m()\u001b[0m\n",
      "\u001b[0;32mpandas/_libs/index.pyx\u001b[0m in \u001b[0;36mpandas._libs.index.IndexEngine.get_loc\u001b[0;34m()\u001b[0m\n",
      "\u001b[0;32mpandas/_libs/hashtable_class_helper.pxi\u001b[0m in \u001b[0;36mpandas._libs.hashtable.PyObjectHashTable.get_item\u001b[0;34m()\u001b[0m\n",
      "\u001b[0;32mpandas/_libs/hashtable_class_helper.pxi\u001b[0m in \u001b[0;36mpandas._libs.hashtable.PyObjectHashTable.get_item\u001b[0;34m()\u001b[0m\n",
      "\u001b[0;31mKeyError\u001b[0m: 'PERFIL'",
      "\nThe above exception was the direct cause of the following exception:\n",
      "\u001b[0;31mKeyError\u001b[0m                                  Traceback (most recent call last)",
      "\u001b[0;32m<ipython-input-28-2f58f6913cad>\u001b[0m in \u001b[0;36m<module>\u001b[0;34m\u001b[0m\n\u001b[1;32m     26\u001b[0m df_data_3 = pd.DataFrame.from_records(\n\u001b[1;32m     27\u001b[0m     data=smote.transform(\n\u001b[0;32m---> 28\u001b[0;31m         \u001b[0mX\u001b[0m\u001b[0;34m=\u001b[0m\u001b[0mdf_data_3\u001b[0m\u001b[0;34m[\u001b[0m\u001b[0mfeatures\u001b[0m\u001b[0;34m]\u001b[0m\u001b[0;34m\u001b[0m\u001b[0;34m\u001b[0m\u001b[0m\n\u001b[0m\u001b[1;32m     29\u001b[0m     )    \n\u001b[1;32m     30\u001b[0m )\n",
      "\u001b[0;32m<ipython-input-11-c635c7a9ad09>\u001b[0m in \u001b[0;36mtransform\u001b[0;34m(self, X)\u001b[0m\n\u001b[1;32m     90\u001b[0m \u001b[0;34m\u001b[0m\u001b[0m\n\u001b[1;32m     91\u001b[0m         \u001b[0mX\u001b[0m \u001b[0;34m=\u001b[0m \u001b[0mdata\u001b[0m\u001b[0;34m[\u001b[0m\u001b[0mself\u001b[0m\u001b[0;34m.\u001b[0m\u001b[0mfeatures\u001b[0m\u001b[0;34m]\u001b[0m\u001b[0;34m\u001b[0m\u001b[0;34m\u001b[0m\u001b[0m\n\u001b[0;32m---> 92\u001b[0;31m         \u001b[0my\u001b[0m \u001b[0;34m=\u001b[0m \u001b[0mdata\u001b[0m\u001b[0;34m[\u001b[0m\u001b[0mself\u001b[0m\u001b[0;34m.\u001b[0m\u001b[0mtarget\u001b[0m\u001b[0;34m]\u001b[0m\u001b[0;34m\u001b[0m\u001b[0;34m\u001b[0m\u001b[0m\n\u001b[0m\u001b[1;32m     93\u001b[0m \u001b[0;34m\u001b[0m\u001b[0m\n\u001b[1;32m     94\u001b[0m         \u001b[0mX\u001b[0m\u001b[0;34m,\u001b[0m \u001b[0my\u001b[0m \u001b[0;34m=\u001b[0m \u001b[0mSMOTE\u001b[0m\u001b[0;34m(\u001b[0m\u001b[0;34m)\u001b[0m\u001b[0;34m.\u001b[0m\u001b[0mfit_resample\u001b[0m\u001b[0;34m(\u001b[0m\u001b[0mX\u001b[0m\u001b[0;34m,\u001b[0m \u001b[0my\u001b[0m\u001b[0;34m.\u001b[0m\u001b[0mvalues\u001b[0m\u001b[0;34m.\u001b[0m\u001b[0mravel\u001b[0m\u001b[0;34m(\u001b[0m\u001b[0;34m)\u001b[0m\u001b[0;34m)\u001b[0m\u001b[0;34m\u001b[0m\u001b[0;34m\u001b[0m\u001b[0m\n",
      "\u001b[0;32m/usr/local/lib/python3.6/dist-packages/pandas/core/frame.py\u001b[0m in \u001b[0;36m__getitem__\u001b[0;34m(self, key)\u001b[0m\n\u001b[1;32m   2897\u001b[0m             \u001b[0;32mif\u001b[0m \u001b[0mself\u001b[0m\u001b[0;34m.\u001b[0m\u001b[0mcolumns\u001b[0m\u001b[0;34m.\u001b[0m\u001b[0mnlevels\u001b[0m \u001b[0;34m>\u001b[0m \u001b[0;36m1\u001b[0m\u001b[0;34m:\u001b[0m\u001b[0;34m\u001b[0m\u001b[0;34m\u001b[0m\u001b[0m\n\u001b[1;32m   2898\u001b[0m                 \u001b[0;32mreturn\u001b[0m \u001b[0mself\u001b[0m\u001b[0;34m.\u001b[0m\u001b[0m_getitem_multilevel\u001b[0m\u001b[0;34m(\u001b[0m\u001b[0mkey\u001b[0m\u001b[0;34m)\u001b[0m\u001b[0;34m\u001b[0m\u001b[0;34m\u001b[0m\u001b[0m\n\u001b[0;32m-> 2899\u001b[0;31m             \u001b[0mindexer\u001b[0m \u001b[0;34m=\u001b[0m \u001b[0mself\u001b[0m\u001b[0;34m.\u001b[0m\u001b[0mcolumns\u001b[0m\u001b[0;34m.\u001b[0m\u001b[0mget_loc\u001b[0m\u001b[0;34m(\u001b[0m\u001b[0mkey\u001b[0m\u001b[0;34m)\u001b[0m\u001b[0;34m\u001b[0m\u001b[0;34m\u001b[0m\u001b[0m\n\u001b[0m\u001b[1;32m   2900\u001b[0m             \u001b[0;32mif\u001b[0m \u001b[0mis_integer\u001b[0m\u001b[0;34m(\u001b[0m\u001b[0mindexer\u001b[0m\u001b[0;34m)\u001b[0m\u001b[0;34m:\u001b[0m\u001b[0;34m\u001b[0m\u001b[0;34m\u001b[0m\u001b[0m\n\u001b[1;32m   2901\u001b[0m                 \u001b[0mindexer\u001b[0m \u001b[0;34m=\u001b[0m \u001b[0;34m[\u001b[0m\u001b[0mindexer\u001b[0m\u001b[0;34m]\u001b[0m\u001b[0;34m\u001b[0m\u001b[0;34m\u001b[0m\u001b[0m\n",
      "\u001b[0;32m/usr/local/lib/python3.6/dist-packages/pandas/core/indexes/base.py\u001b[0m in \u001b[0;36mget_loc\u001b[0;34m(self, key, method, tolerance)\u001b[0m\n\u001b[1;32m   2889\u001b[0m                 \u001b[0;32mreturn\u001b[0m \u001b[0mself\u001b[0m\u001b[0;34m.\u001b[0m\u001b[0m_engine\u001b[0m\u001b[0;34m.\u001b[0m\u001b[0mget_loc\u001b[0m\u001b[0;34m(\u001b[0m\u001b[0mcasted_key\u001b[0m\u001b[0;34m)\u001b[0m\u001b[0;34m\u001b[0m\u001b[0;34m\u001b[0m\u001b[0m\n\u001b[1;32m   2890\u001b[0m             \u001b[0;32mexcept\u001b[0m \u001b[0mKeyError\u001b[0m \u001b[0;32mas\u001b[0m \u001b[0merr\u001b[0m\u001b[0;34m:\u001b[0m\u001b[0;34m\u001b[0m\u001b[0;34m\u001b[0m\u001b[0m\n\u001b[0;32m-> 2891\u001b[0;31m                 \u001b[0;32mraise\u001b[0m \u001b[0mKeyError\u001b[0m\u001b[0;34m(\u001b[0m\u001b[0mkey\u001b[0m\u001b[0;34m)\u001b[0m \u001b[0;32mfrom\u001b[0m \u001b[0merr\u001b[0m\u001b[0;34m\u001b[0m\u001b[0;34m\u001b[0m\u001b[0m\n\u001b[0m\u001b[1;32m   2892\u001b[0m \u001b[0;34m\u001b[0m\u001b[0m\n\u001b[1;32m   2893\u001b[0m         \u001b[0;32mif\u001b[0m \u001b[0mtolerance\u001b[0m \u001b[0;32mis\u001b[0m \u001b[0;32mnot\u001b[0m \u001b[0;32mNone\u001b[0m\u001b[0;34m:\u001b[0m\u001b[0;34m\u001b[0m\u001b[0;34m\u001b[0m\u001b[0m\n",
      "\u001b[0;31mKeyError\u001b[0m: 'PERFIL'"
     ]
    }
   ],
   "source": [
    "# Definição das colunas que serão features (nota-se que a coluna NOME não está presente)\n",
    "features = [\n",
    "    \"MATRICULA\", 'REPROVACOES_DE', 'REPROVACOES_EM', \"NOTA_DE\", \"NOTA_EM\", \"NOTA_MF\", \"NOTA_GO\",\n",
    "    \"REPROVACOES_MF\", \"REPROVACOES_GO\", \"INGLES\", \"H_AULA_PRES\", \"TAREFAS_ONLINE\", \"FALTAS\",\n",
    "    \"SQRT_NOTA_DE\", \"SQRT_NOTA_EM\", \"SQRT_NOTA_MF\", \"SQRT_NOTA_GO\", \n",
    "    \"AUX_NOTA_DE\", \"AUX_NOTA_EM\", \"AUX_NOTA_MF\", \"AUX_NOTA_GO\"\n",
    "]\n",
    "\n",
    "# Definição da variável-alvo\n",
    "target = [\"PERFIL\"]\n",
    "\n",
    "# Preparação dos argumentos para os métodos da biblioteca ``scikit-learn``\n",
    "X = df_data_3[features]\n",
    "y = df_data_3[target]\n",
    "\n",
    "# Instanciando uma transformação DropColumns\n",
    "smote = Smote(\n",
    "    features=features,\n",
    "    target=target\n",
    ")\n",
    "\n",
    "# Aplicando a transformação ``DropColumns`` ao conjunto de dados base\n",
    "smote.fit(X, y)\n",
    "\n",
    "# Reconstruindo um DataFrame Pandas com o resultado da transformação\n",
    "df_data_3 = pd.DataFrame.from_records(\n",
    "    data=smote.transform(\n",
    "        X=df_data_3[features]\n",
    "    )    \n",
    ")\n"
   ]
  },
  {
   "cell_type": "markdown",
   "metadata": {},
   "source": [
    "O conjunto de entrada (X):"
   ]
  },
  {
   "cell_type": "code",
   "execution_count": null,
   "metadata": {},
   "outputs": [],
   "source": [
    "X.head()"
   ]
  },
  {
   "cell_type": "markdown",
   "metadata": {},
   "source": [
    "As variáveis-alvo correspondentes (y):"
   ]
  },
  {
   "cell_type": "code",
   "execution_count": null,
   "metadata": {},
   "outputs": [],
   "source": [
    "y.head()"
   ]
  },
  {
   "cell_type": "markdown",
   "metadata": {},
   "source": [
    "#### Separando o dataset em um conjunto de treino e um conjunto de teste"
   ]
  },
  {
   "cell_type": "markdown",
   "metadata": {},
   "source": [
    "Iremos separar o dataset fornecido em dois grupos: um para treinar nosso modelo, e outro para testarmos o resultado através de um teste cego. A separação do dataset pode ser feita facilmente com o método *train_test_split()* do scikit-learn:"
   ]
  },
  {
   "cell_type": "code",
   "execution_count": null,
   "metadata": {},
   "outputs": [],
   "source": [
    "# from imblearn.over_sampling import SMOTE\n",
    "# X_adjust, y_adjust = SMOTE().fit_resample(X, y.values.ravel())\n",
    "\n",
    "# Separação dos dados em um conjunto de treino e um conjunto de teste\n",
    "X_train, X_test, y_train, y_test = train_test_split(X, y, test_size=0.2, random_state=337)"
   ]
  },
  {
   "cell_type": "markdown",
   "metadata": {},
   "source": [
    "#### Criando um modelo baseado em árvores de decisão"
   ]
  },
  {
   "cell_type": "markdown",
   "metadata": {},
   "source": [
    "No exemplo fornecido iremos criar um classificador baseado em **árvores de decisão**.\n",
    "\n",
    "O primeiro passo é basicamente instanciar um objeto *DecisionTreeClassifier()* da biblioteca scikit-learn."
   ]
  },
  {
   "cell_type": "code",
   "execution_count": null,
   "metadata": {},
   "outputs": [],
   "source": [
    "# Criação da árvore de decisão com a biblioteca ``scikit-learn``:\n",
    "# dtc_model = DecisionTreeClassifier()  # O modelo será criado com os parâmetros padrões da biblioteca\n",
    "\n",
    "from sklearn.ensemble import RandomForestClassifier\n",
    "dtc_model = RandomForestClassifier(random_state=337)\n",
    "\n",
    "# from sklearn.ensemble import BaggingClassifier\n",
    "# dtc_model = BaggingClassifier(random_state=337)\n",
    "\n",
    "# from xgboost import XGBClassifier\n",
    "# dtc_model = XGBClassifier(random_state=337)"
   ]
  },
  {
   "cell_type": "markdown",
   "metadata": {},
   "source": [
    "Material teórico sobre árvores de decisão na documentação oficial do scikit-learn: https://scikit-learn.org/stable/modules/tree.html\n",
    "\n",
    "Um guia para iniciantes no mundo do machine learning: https://developer.ibm.com/br/articles/cc-beginner-guide-machine-learning-ai-cognitive/"
   ]
  },
  {
   "cell_type": "markdown",
   "metadata": {},
   "source": [
    "#### Execução do evento de treino de uma árvore de decisão"
   ]
  },
  {
   "cell_type": "code",
   "execution_count": null,
   "metadata": {},
   "outputs": [],
   "source": [
    "# Treino do modelo (é chamado o método *fit()* com os conjuntos de treino)\n",
    "dtc_model.fit(\n",
    "    X_train,\n",
    "    y_train\n",
    ")"
   ]
  },
  {
   "cell_type": "markdown",
   "metadata": {},
   "source": [
    "#### Execução de predições e avaliação do modelo criado"
   ]
  },
  {
   "cell_type": "code",
   "execution_count": null,
   "metadata": {},
   "outputs": [],
   "source": [
    "# Realização de teste cego no modelo criado\n",
    "y_pred = dtc_model.predict(X_test)"
   ]
  },
  {
   "cell_type": "code",
   "execution_count": null,
   "metadata": {},
   "outputs": [],
   "source": [
    "X_test.head()"
   ]
  },
  {
   "cell_type": "code",
   "execution_count": null,
   "metadata": {},
   "outputs": [],
   "source": [
    "print(y_pred)"
   ]
  },
  {
   "cell_type": "code",
   "execution_count": null,
   "metadata": {},
   "outputs": [],
   "source": [
    "from sklearn.metrics import accuracy_score\n",
    "\n",
    "# Acurácia alcançada pela árvore de decisão\n",
    "print(\"Acurácia: {}%\".format(100*round(accuracy_score(y_test, y_pred), 4)))\n",
    "\n",
    "feature_list = list(X.columns)\n",
    "feature_imp = pd.Series(dtc_model.feature_importances_, index=feature_list).sort_values(ascending=False)\n",
    "print(feature_imp)"
   ]
  },
  {
   "cell_type": "markdown",
   "metadata": {},
   "source": [
    "<hr>"
   ]
  },
  {
   "cell_type": "markdown",
   "metadata": {},
   "source": [
    "Neste notebook foi demonstrado como trabalhar com transformações e modelos com a biblioteca scikit-learn. É recomendado que o participante realize seus experimentos editando o código fornecido aqui até que um modelo com acurácia elevada seja alcançado.\n",
    "\n",
    "Quando você estiver satisfeito com seu modelo, pode passar para a segunda etapa do desafio -- encapsular seu modelo como uma API REST pronta para uso com o Watson Machine Learning!\n",
    "\n",
    "O notebook para a segunda etapa já se encontra neste projeto, basta acessar a aba **ASSETS** e inicializá-lo! Não se esqueca de antes desligar o Kernel deste notebook para reduzir o consumo de sua camada grátis do IBM Cloud Pak for Data."
   ]
  },
  {
   "cell_type": "code",
   "execution_count": null,
   "metadata": {},
   "outputs": [],
   "source": []
  }
 ],
 "metadata": {
  "kernelspec": {
   "display_name": "Python 3",
   "language": "python",
   "name": "python3"
  },
  "language_info": {
   "codemirror_mode": {
    "name": "ipython",
    "version": 3
   },
   "file_extension": ".py",
   "mimetype": "text/x-python",
   "name": "python",
   "nbconvert_exporter": "python",
   "pygments_lexer": "ipython3",
   "version": "3.6.9"
  }
 },
 "nbformat": 4,
 "nbformat_minor": 1
}
